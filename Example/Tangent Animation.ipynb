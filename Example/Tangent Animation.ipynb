{
 "cells": [
  {
   "cell_type": "code",
   "execution_count": 1,
   "id": "b26fa081-a8dc-451f-a31a-1d7370bd49f5",
   "metadata": {},
   "outputs": [],
   "source": [
    "%matplotlib inline"
   ]
  },
  {
   "cell_type": "code",
   "execution_count": 2,
   "id": "65ffdd13-43da-4c0b-bec6-a81cedba447a",
   "metadata": {},
   "outputs": [],
   "source": [
    "import itertools"
   ]
  },
  {
   "cell_type": "code",
   "execution_count": 9,
   "id": "0e7c6322-41bd-4e5c-8010-9cae953614ba",
   "metadata": {},
   "outputs": [],
   "source": [
    "import numpy as np\n",
    "import matplotlib.pyplot as plt\n",
    "from matplotlib.animation import FuncAnimation\n",
    "import matplotlib.animation as animation"
   ]
  },
  {
   "cell_type": "code",
   "execution_count": 12,
   "id": "946d556f-2183-4aa7-875f-e3e6ef058940",
   "metadata": {},
   "outputs": [
    {
     "data": {
      "image/png": "[encoded data removed]",
      "text/plain": [
       "<Figure size 432x288 with 1 Axes>"
      ]
     },
     "metadata": {
      "needs_background": "light"
     },
     "output_type": "display_data"
    }
   ],
   "source": [
    "fig, ax = plt.subplots()\n",
    "xdata, ydata = [], []\n",
    "ln, = plt.plot([], [], 'r-')\n",
    "\n",
    "def init() :\n",
    "    ax.set_xlim(-np.pi, np.pi)\n",
    "    ax.set_ylim(-100, 100)\n",
    "    ax.axhline(0, color=\"black\", ls=\"--\", lw=0.3)\n",
    "    return ln,\n",
    "\n",
    "def update(frame):\n",
    "    xdata.append(frame)\n",
    "    ydata.append(np.tan(frame))\n",
    "    ln.set_data(xdata, ydata)\n",
    "    return ln,\n",
    "\n",
    "\n",
    "x = np.linspace(-np.pi, np.pi, 400)\n",
    "\n",
    "ani = FuncAnimation(fig, update, frames=np.linspace(-np.pi, np.pi, 400), init_func=init, interval=100, blit=True)\n",
    "f = r\"C:\\Users\\ikema\\Desktop\\Matplotlib Animation\\Tangent animation.mp4\" #경로 설정 \n",
    "writermp4 = animation.FFMpegWriter(fps=24) #write를 어떤 코덱을 사용할 것인가. (ex)FFMpegWriter(fps=24)\n",
    "ani.save(f, writer=writermp4, dpi=200) #저장 "
   ]
  },
  {
   "cell_type": "code",
   "execution_count": 13,
   "id": "3b1dea3a-4c45-4b47-a54b-00d65f7b9f7e",
   "metadata": {},
   "outputs": [
    {
     "data": {
      "text/plain": [
       "array([-3.14159265, -3.12584532, -3.11009799, -3.09435066, -3.07860333,\n",
       "       -3.062856  , -3.04710866, -3.03136133, -3.015614  , -2.99986667,\n",
       "       -2.98411934, -2.96837201, -2.95262467, -2.93687734, -2.92113001,\n",
       "       -2.90538268, -2.88963535, -2.87388802, -2.85814068, -2.84239335,\n",
       "       -2.82664602, -2.81089869, -2.79515136, -2.77940403, -2.7636567 ,\n",
       "       -2.74790936, -2.73216203, -2.7164147 , -2.70066737, -2.68492004,\n",
       "       -2.66917271, -2.65342537, -2.63767804, -2.62193071, -2.60618338,\n",
       "       -2.59043605, -2.57468872, -2.55894138, -2.54319405, -2.52744672,\n",
       "       -2.51169939, -2.49595206, -2.48020473, -2.46445739, -2.44871006,\n",
       "       -2.43296273, -2.4172154 , -2.40146807, -2.38572074, -2.36997341,\n",
       "       -2.35422607, -2.33847874, -2.32273141, -2.30698408, -2.29123675,\n",
       "       -2.27548942, -2.25974208, -2.24399475, -2.22824742, -2.21250009,\n",
       "       -2.19675276, -2.18100543, -2.16525809, -2.14951076, -2.13376343,\n",
       "       -2.1180161 , -2.10226877, -2.08652144, -2.0707741 , -2.05502677,\n",
       "       -2.03927944, -2.02353211, -2.00778478, -1.99203745, -1.97629012,\n",
       "       -1.96054278, -1.94479545, -1.92904812, -1.91330079, -1.89755346,\n",
       "       -1.88180613, -1.86605879, -1.85031146, -1.83456413, -1.8188168 ,\n",
       "       -1.80306947, -1.78732214, -1.7715748 , -1.75582747, -1.74008014,\n",
       "       -1.72433281, -1.70858548, -1.69283815, -1.67709082, -1.66134348,\n",
       "       -1.64559615, -1.62984882, -1.61410149, -1.59835416, -1.58260683,\n",
       "       -1.56685949, -1.55111216, -1.53536483, -1.5196175 , -1.50387017,\n",
       "       -1.48812284, -1.4723755 , -1.45662817, -1.44088084, -1.42513351,\n",
       "       -1.40938618, -1.39363885, -1.37789151, -1.36214418, -1.34639685,\n",
       "       -1.33064952, -1.31490219, -1.29915486, -1.28340753, -1.26766019,\n",
       "       -1.25191286, -1.23616553, -1.2204182 , -1.20467087, -1.18892354,\n",
       "       -1.1731762 , -1.15742887, -1.14168154, -1.12593421, -1.11018688,\n",
       "       -1.09443955, -1.07869221, -1.06294488, -1.04719755, -1.03145022,\n",
       "       -1.01570289, -0.99995556, -0.98420822, -0.96846089, -0.95271356,\n",
       "       -0.93696623, -0.9212189 , -0.90547157, -0.88972424, -0.8739769 ,\n",
       "       -0.85822957, -0.84248224, -0.82673491, -0.81098758, -0.79524025,\n",
       "       -0.77949291, -0.76374558, -0.74799825, -0.73225092, -0.71650359,\n",
       "       -0.70075626, -0.68500892, -0.66926159, -0.65351426, -0.63776693,\n",
       "       -0.6220196 , -0.60627227, -0.59052493, -0.5747776 , -0.55903027,\n",
       "       -0.54328294, -0.52753561, -0.51178828, -0.49604095, -0.48029361,\n",
       "       -0.46454628, -0.44879895, -0.43305162, -0.41730429, -0.40155696,\n",
       "       -0.38580962, -0.37006229, -0.35431496, -0.33856763, -0.3228203 ,\n",
       "       -0.30707297, -0.29132563, -0.2755783 , -0.25983097, -0.24408364,\n",
       "       -0.22833631, -0.21258898, -0.19684164, -0.18109431, -0.16534698,\n",
       "       -0.14959965, -0.13385232, -0.11810499, -0.10235766, -0.08661032,\n",
       "       -0.07086299, -0.05511566, -0.03936833, -0.023621  , -0.00787367,\n",
       "        0.00787367,  0.023621  ,  0.03936833,  0.05511566,  0.07086299,\n",
       "        0.08661032,  0.10235766,  0.11810499,  0.13385232,  0.14959965,\n",
       "        0.16534698,  0.18109431,  0.19684164,  0.21258898,  0.22833631,\n",
       "        0.24408364,  0.25983097,  0.2755783 ,  0.29132563,  0.30707297,\n",
       "        0.3228203 ,  0.33856763,  0.35431496,  0.37006229,  0.38580962,\n",
       "        0.40155696,  0.41730429,  0.43305162,  0.44879895,  0.46454628,\n",
       "        0.48029361,  0.49604095,  0.51178828,  0.52753561,  0.54328294,\n",
       "        0.55903027,  0.5747776 ,  0.59052493,  0.60627227,  0.6220196 ,\n",
       "        0.63776693,  0.65351426,  0.66926159,  0.68500892,  0.70075626,\n",
       "        0.71650359,  0.73225092,  0.74799825,  0.76374558,  0.77949291,\n",
       "        0.79524025,  0.81098758,  0.82673491,  0.84248224,  0.85822957,\n",
       "        0.8739769 ,  0.88972424,  0.90547157,  0.9212189 ,  0.93696623,\n",
       "        0.95271356,  0.96846089,  0.98420822,  0.99995556,  1.01570289,\n",
       "        1.03145022,  1.04719755,  1.06294488,  1.07869221,  1.09443955,\n",
       "        1.11018688,  1.12593421,  1.14168154,  1.15742887,  1.1731762 ,\n",
       "        1.18892354,  1.20467087,  1.2204182 ,  1.23616553,  1.25191286,\n",
       "        1.26766019,  1.28340753,  1.29915486,  1.31490219,  1.33064952,\n",
       "        1.34639685,  1.36214418,  1.37789151,  1.39363885,  1.40938618,\n",
       "        1.42513351,  1.44088084,  1.45662817,  1.4723755 ,  1.48812284,\n",
       "        1.50387017,  1.5196175 ,  1.53536483,  1.55111216,  1.56685949,\n",
       "        1.58260683,  1.59835416,  1.61410149,  1.62984882,  1.64559615,\n",
       "        1.66134348,  1.67709082,  1.69283815,  1.70858548,  1.72433281,\n",
       "        1.74008014,  1.75582747,  1.7715748 ,  1.78732214,  1.80306947,\n",
       "        1.8188168 ,  1.83456413,  1.85031146,  1.86605879,  1.88180613,\n",
       "        1.89755346,  1.91330079,  1.92904812,  1.94479545,  1.96054278,\n",
       "        1.97629012,  1.99203745,  2.00778478,  2.02353211,  2.03927944,\n",
       "        2.05502677,  2.0707741 ,  2.08652144,  2.10226877,  2.1180161 ,\n",
       "        2.13376343,  2.14951076,  2.16525809,  2.18100543,  2.19675276,\n",
       "        2.21250009,  2.22824742,  2.24399475,  2.25974208,  2.27548942,\n",
       "        2.29123675,  2.30698408,  2.32273141,  2.33847874,  2.35422607,\n",
       "        2.36997341,  2.38572074,  2.40146807,  2.4172154 ,  2.43296273,\n",
       "        2.44871006,  2.46445739,  2.48020473,  2.49595206,  2.51169939,\n",
       "        2.52744672,  2.54319405,  2.55894138,  2.57468872,  2.59043605,\n",
       "        2.60618338,  2.62193071,  2.63767804,  2.65342537,  2.66917271,\n",
       "        2.68492004,  2.70066737,  2.7164147 ,  2.73216203,  2.74790936,\n",
       "        2.7636567 ,  2.77940403,  2.79515136,  2.81089869,  2.82664602,\n",
       "        2.84239335,  2.85814068,  2.87388802,  2.88963535,  2.90538268,\n",
       "        2.92113001,  2.93687734,  2.95262467,  2.96837201,  2.98411934,\n",
       "        2.99986667,  3.015614  ,  3.03136133,  3.04710866,  3.062856  ,\n",
       "        3.07860333,  3.09435066,  3.11009799,  3.12584532,  3.14159265])"
      ]
     },
     "execution_count": 13,
     "metadata": {},
     "output_type": "execute_result"
    }
   ],
   "source": [
    "x"
   ]
  },
  {
   "cell_type": "code",
   "execution_count": 14,
   "id": "506a9c0a-56e8-4b10-b7cc-c5f71c0e9fe7",
   "metadata": {},
   "outputs": [
    {
     "data": {
      "text/plain": [
       "numpy.ndarray"
      ]
     },
     "execution_count": 14,
     "metadata": {},
     "output_type": "execute_result"
    }
   ],
   "source": [
    "type(x)"
   ]
  },
  {
   "cell_type": "code",
   "execution_count": null,
   "id": "a7da016b-485f-4c16-b8ea-1a6a9c8b7651",
   "metadata": {},
   "outputs": [],
   "source": []
  }
 ],
 "metadata": {
  "kernelspec": {
   "display_name": "Python 3",
   "language": "python",
   "name": "python3"
  },
  "language_info": {
   "codemirror_mode": {
    "name": "ipython",
    "version": 3
   },
   "file_extension": ".py",
   "mimetype": "text/x-python",
   "name": "python",
   "nbconvert_exporter": "python",
   "pygments_lexer": "ipython3",
   "version": "3.7.7"
  }
 },
 "nbformat": 4,
 "nbformat_minor": 5
}
