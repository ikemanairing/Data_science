{
 "cells": [
  {
   "cell_type": "markdown",
   "id": "abd78e6c-7115-48f9-8653-7031ca3ee864",
   "metadata": {},
   "source": [
    "# Sine function ver 0.01\n",
    "\n",
    "- 0.00 - 사인 함수 생성\n",
    "- 0.01 - annotation 추가"
   ]
  },
  {
   "cell_type": "code",
   "execution_count": 1,
   "id": "9e310790-6d4c-4106-a10a-f78800d34111",
   "metadata": {},
   "outputs": [],
   "source": [
    "%matplotlib inline"
   ]
  },
  {
   "cell_type": "code",
   "execution_count": 2,
   "id": "ac85ffe6-fb3b-4311-9717-98b3217edb18",
   "metadata": {},
   "outputs": [],
   "source": [
    "import numpy as np\n",
    "import matplotlib.pyplot as plt\n",
    "import matplotlib as mpl\n",
    "from matplotlib.animation import FuncAnimation\n",
    "import matplotlib.animation as animation"
   ]
  },
  {
   "cell_type": "code",
   "execution_count": 26,
   "id": "7bba0e18-131e-42b4-a0e0-5df5bc73e311",
   "metadata": {},
   "outputs": [
    {
     "data": {
      "image/png": "[encoded data removed]",
      "text/plain": [
       "<Figure size 432x288 with 1 Axes>"
      ]
     },
     "metadata": {
      "needs_background": "light"
     },
     "output_type": "display_data"
    }
   ],
   "source": [
    "# fig object (비우는게 최고다)\n",
    "fig, ax = plt.subplots()\n",
    "xdata1, ydata1, xdata2, ydata2 = [], [], [], []\n",
    "ln1, = plt.plot([], [], 'g-', markevery=np.pi)\n",
    "ln2, = plt.plot([], [], 'b-', markevery=np.pi)\n",
    "\n",
    "# annotation 추가\n",
    "annotation = ax.annotate(\n",
    "    'annotation', xy=(1,0), xytext=(-1,0),\n",
    "    arrowprops = {'arrowstyle': \"->\"})"
   ]
  },
  {
   "cell_type": "code",
   "execution_count": 52,
   "id": "5e3ab0ff-20b5-493e-aaa1-3b55bfa86702",
   "metadata": {},
   "outputs": [],
   "source": [
    "#func\n",
    "def update(frame) : # 이 함수의 실행을 통해서 ln에 데이터를 추가해야한다.\n",
    "    \n",
    "    # frames의 iterable을 에 추가\n",
    "    xdata1.append(frame) \n",
    "    ydata1.append(4 * np.sin(frame)) \n",
    "    xdata2.append(frame) \n",
    "    ydata2.append(2 * np.sin(frame))\n",
    "    \n",
    "    # line object에 데이터를 매번 세팅 (어레이 전체로!)\n",
    "    ln1.set_data(xdata1, ydata1) \n",
    "    ln2.set_data(xdata2, ydata2)\n",
    "    annotation.set_position((xdata1[-1]+1, ydata1[-1]+1))\n",
    "    annotation.xy = (xdata1[-1], ydata1[-1])\n",
    "    annotation.set_text(f'{round(ydata1[-1], 2)}')\n",
    "\n",
    "    # 이전 데이터 전체를 이용한 line 리턴\n",
    "    return ln1, ln2, annotation,\n",
    "\n",
    "#frames = 좌표 전체를 만듬(array)\n",
    "x = np.arange(0, 6*np.pi, 0.1) "
   ]
  },
  {
   "cell_type": "code",
   "execution_count": 53,
   "id": "c91449e9-5dc3-4a5f-8850-f323b799a57c",
   "metadata": {},
   "outputs": [],
   "source": [
    "#init = 초기 그래프 설정값을 만듬 (이것은 변하지 않는다.)\n",
    "def init() :\n",
    "    ax.set_xlim(0, 6*np.pi)\n",
    "    ax.set_ylim(-6, 6)\n",
    "    ax.axhline(2, color=\"black\", ls='--', lw=0.5)\n",
    "    ax.axhline(-2, color=\"black\", ls='--', lw=0.5)\n",
    "    ax.axhline(4, color=\"black\", ls='--', lw=0.5)\n",
    "    ax.axhline(-4, color=\"black\", ls='--', lw=0.5)\n",
    "    ax.axvline(6*np.pi/2, color=\"black\", ls='--', lw=0.5)\n",
    "    return ln1, ln2"
   ]
  },
  {
   "cell_type": "code",
   "execution_count": 54,
   "id": "c6f66b14-5ed8-40a4-9042-6c04c28868da",
   "metadata": {
    "tags": []
   },
   "outputs": [],
   "source": [
    "# FuncAnimation을 통해서 빌드 \n",
    "ani = FuncAnimation(fig, update, frames=x, init_func=init, interval=100, blit=True)\n",
    "# 초기 figure, func(rendering), all values, init_func, interval = 딜레이, blit = 나중에 확인\n",
    "f = r\"C:\\Users\\ikema\\Desktop\\Matplotlib Animation\\sine animation.mp4\" #경로 설정 \n",
    "writermp4 = animation.FFMpegWriter(fps=10) #write를 어떤 코덱을 사용할 것인가. (ex)FFMpegWriter(fps=24)\n",
    "ani.save(f, writer=writermp4, dpi=100) #저장 "
   ]
  },
  {
   "cell_type": "code",
   "execution_count": null,
   "id": "078c29bf-4c82-42f7-973b-9dcbbd0279bf",
   "metadata": {
    "tags": []
   },
   "outputs": [],
   "source": []
  },
  {
   "cell_type": "code",
   "execution_count": null,
   "id": "aac35cc4-1e77-4a83-a687-79bf47e1f468",
   "metadata": {},
   "outputs": [],
   "source": []
  }
 ],
 "metadata": {
  "kernelspec": {
   "display_name": "Data_science",
   "language": "python",
   "name": "data_science"
  },
  "language_info": {
   "codemirror_mode": {
    "name": "ipython",
    "version": 3
   },
   "file_extension": ".py",
   "mimetype": "text/x-python",
   "name": "python",
   "nbconvert_exporter": "python",
   "pygments_lexer": "ipython3",
   "version": "3.7.7"
  }
 },
 "nbformat": 4,
 "nbformat_minor": 5
}
