{
 "cells": [
  {
   "cell_type": "markdown",
   "id": "abd78e6c-7115-48f9-8653-7031ca3ee864",
   "metadata": {},
   "source": [
    "# Sine function ver 0.01\n",
    "\n",
    "- 0.00 - 사인 함수 생성\n",
    "- 0.01 - annotation 추가"
   ]
  },
  {
   "cell_type": "code",
   "execution_count": 10,
   "id": "9e310790-6d4c-4106-a10a-f78800d34111",
   "metadata": {},
   "outputs": [],
   "source": [
    "%matplotlib widget"
   ]
  },
  {
   "cell_type": "code",
   "execution_count": 11,
   "id": "ac85ffe6-fb3b-4311-9717-98b3217edb18",
   "metadata": {},
   "outputs": [],
   "source": [
    "import numpy as np\n",
    "import matplotlib.pyplot as plt\n",
    "import matplotlib as mpl\n",
    "from matplotlib.animation import FuncAnimation\n",
    "import matplotlib.animation as animation"
   ]
  },
  {
   "cell_type": "code",
   "execution_count": 12,
   "id": "7bba0e18-131e-42b4-a0e0-5df5bc73e311",
   "metadata": {},
   "outputs": [
    {
     "data": {
      "application/vnd.jupyter.widget-view+json": {
       "model_id": "4294ba5e62994920825b04e4b0aee8d2",
       "version_major": 2,
       "version_minor": 0
      },
      "image/png": "[encoded data removed]",
      "text/html": [
       "\n",
       "            <div style=\"display: inline-block;\">\n",
       "                <div class=\"jupyter-widgets widget-label\" style=\"text-align: center;\">\n",
       "                    Figure\n",
       "                </div>\n",
       "                <img src='data:image/png;base64,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' width=432.0/>\n",
       "            </div>\n",
       "        "
      ],
      "text/plain": [
       "Canvas(toolbar=Toolbar(toolitems=[('Home', 'Reset original view', 'home', 'home'), ('Back', 'Back to previous …"
      ]
     },
     "metadata": {},
     "output_type": "display_data"
    }
   ],
   "source": [
    "# fig object (비우는게 최고다)\n",
    "fig, ax = plt.subplots()\n",
    "xdata1, ydata1, xdata2, ydata2 = [], [], [], []\n",
    "ln1, = plt.plot([], [], 'g-', markevery=np.pi)\n",
    "ln2, = plt.plot([], [], 'b-', markevery=np.pi)\n",
    "\n",
    "# annotation 추가\n",
    "annotation = ax.annotate(\n",
    "    'annotation', xy=(1,0), xytext=(-1,0),\n",
    "    arrowprops = {'arrowstyle': \"->\"})"
   ]
  },
  {
   "cell_type": "code",
   "execution_count": 13,
   "id": "5e3ab0ff-20b5-493e-aaa1-3b55bfa86702",
   "metadata": {},
   "outputs": [],
   "source": [
    "#func\n",
    "def update(frame) : # 이 함수의 실행을 통해서 ln에 데이터를 추가해야한다.\n",
    "    \n",
    "    # frames의 iterable을 에 추가\n",
    "    xdata1.append(frame) \n",
    "    ydata1.append(4 * np.sin(frame)) \n",
    "    xdata2.append(frame) \n",
    "    ydata2.append(2 * np.sin(frame))\n",
    "    \n",
    "    # line object에 데이터를 매번 세팅 (어레이 전체로!)\n",
    "    ln1.set_data(xdata1, ydata1) \n",
    "    ln2.set_data(xdata2, ydata2)\n",
    "    annotation.set_position((xdata1[-1]+1, ydata1[-1]+1))\n",
    "    annotation.xy = (xdata1[-1], ydata1[-1])\n",
    "    annotation.set_text(f'{round(ydata1[-1], 2)}')\n",
    "\n",
    "    # 이전 데이터 전체를 이용한 line 리턴\n",
    "    return ln1, ln2, annotation,\n",
    "\n",
    "#frames = 좌표 전체를 만듬(array)\n",
    "x = np.arange(0, 6*np.pi, 0.1) "
   ]
  },
  {
   "cell_type": "code",
   "execution_count": 14,
   "id": "c91449e9-5dc3-4a5f-8850-f323b799a57c",
   "metadata": {},
   "outputs": [],
   "source": [
    "#init = 초기 그래프 설정값을 만듬 (이것은 변하지 않는다.)\n",
    "def init() :\n",
    "    ax.set_xlim(0, 6*np.pi)\n",
    "    ax.set_ylim(-6, 6)\n",
    "    ax.axhline(2, color=\"black\", ls='--', lw=0.5)\n",
    "    ax.axhline(-2, color=\"black\", ls='--', lw=0.5)\n",
    "    ax.axhline(4, color=\"black\", ls='--', lw=0.5)\n",
    "    ax.axhline(-4, color=\"black\", ls='--', lw=0.5)\n",
    "    ax.axvline(6*np.pi/2, color=\"black\", ls='--', lw=0.5)\n",
    "    return ln1, ln2"
   ]
  },
  {
   "cell_type": "code",
   "execution_count": 17,
   "id": "c6f66b14-5ed8-40a4-9042-6c04c28868da",
   "metadata": {
    "tags": []
   },
   "outputs": [],
   "source": [
    "# FuncAnimation을 통해서 빌드 \n",
    "ani = FuncAnimation(fig, update, frames=x, init_func=init, interval=100, blit=True)\n"
   ]
  },
  {
   "cell_type": "code",
   "execution_count": null,
   "id": "078c29bf-4c82-42f7-973b-9dcbbd0279bf",
   "metadata": {
    "tags": []
   },
   "outputs": [],
   "source": [
    "# 초기 figure, func(rendering), all values, init_func, interval = 딜레이, blit = 나중에 확인\n",
    "f = r\"C:\\Users\\ikema\\Desktop\\Matplotlib Animation\\sine animation.mp4\" #경로 설정 \n",
    "writermp4 = animation.FFMpegWriter(fps=10) #write를 어떤 코덱을 사용할 것인가. (ex)FFMpegWriter(fps=24)\n",
    "ani.save(f, writer=writermp4, dpi=100) #저장 "
   ]
  },
  {
   "cell_type": "code",
   "execution_count": null,
   "id": "aac35cc4-1e77-4a83-a687-79bf47e1f468",
   "metadata": {},
   "outputs": [],
   "source": []
  }
 ],
 "metadata": {
  "kernelspec": {
   "display_name": "Data Science",
   "language": "python",
   "name": "data_science"
  },
  "language_info": {
   "codemirror_mode": {
    "name": "ipython",
    "version": 3
   },
   "file_extension": ".py",
   "mimetype": "text/x-python",
   "name": "python",
   "nbconvert_exporter": "python",
   "pygments_lexer": "ipython3",
   "version": "3.9.7"
  }
 },
 "nbformat": 4,
 "nbformat_minor": 5
}
