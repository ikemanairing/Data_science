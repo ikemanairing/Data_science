{
 "cells": [
  {
   "cell_type": "code",
   "execution_count": 1,
   "id": "87aec390-663e-4bc8-b6eb-f1134557fef2",
   "metadata": {},
   "outputs": [],
   "source": [
    "import pandas as pd\n",
    "import numpy as np"
   ]
  },
  {
   "cell_type": "code",
   "execution_count": 3,
   "id": "a6f6b2f8-fd30-4142-a694-157d7afa8334",
   "metadata": {},
   "outputs": [],
   "source": [
    "import matplotlib as mpl\n",
    "import matplotlib.pyplot as plt\n",
    "from matplotlib.animation import FuncAnimation\n",
    "from matplotlib import cm\n"
   ]
  },
  {
   "cell_type": "markdown",
   "id": "ba430f67-b2c0-413c-9bb1-f999008f7ee0",
   "metadata": {},
   "source": [
    "# Boxplot"
   ]
  },
  {
   "cell_type": "markdown",
   "id": "572479fc-1323-406e-96a6-77b944019da5",
   "metadata": {},
   "source": [
    "## 데이터 작성"
   ]
  },
  {
   "cell_type": "code",
   "execution_count": 95,
   "id": "fc6c3d0a-6ced-41e9-b239-15077603919a",
   "metadata": {},
   "outputs": [],
   "source": [
    "np.random.seed(19680801)\n",
    "\n",
    "spread = np.random.rand(50) * 100  # 0 < x < 1 사이의 값 50개에 100을 곱해서 10의 자리의 수 50개를 만든다.\n",
    "center = np.ones(25) * 50 # 1을 25개 만들어서 50을 곱한다. = 즉 50이 25개 \n",
    "flier_high = np.random.rand(10) * 100 + 100 # 0 < x < 100 사이 값 10개\n",
    "flier_low = np.random.rand(10) * -100 # -100 < x < 0 사이 값 10개\n",
    "data = np.concatenate((spread, center, flier_high, flier_low)) # 어레이 그냥 합치기"
   ]
  },
  {
   "cell_type": "code",
   "execution_count": 96,
   "id": "0e44f17e-2124-4fab-8d0e-9e593af56015",
   "metadata": {},
   "outputs": [
    {
     "data": {
      "text/plain": [
       "array([ 70.03673039,  74.27508094,  70.92800107,  56.67455225,\n",
       "        97.77853328,  70.6334846 ,  24.79157587,  15.78833509,\n",
       "        69.76985214,  71.99566667,  25.77444303,  34.15467831,\n",
       "        96.87611677,  69.45070978,  46.63832593,  70.28126954,\n",
       "        51.1785874 ,  92.874137  ,  73.97692989,  62.24390337,\n",
       "        65.15454689,  39.68076115,  54.32393949,  79.98995282,\n",
       "        72.15447266,  29.53639811,  16.09458806,  20.61255148,\n",
       "        13.43253868,  48.06050174,  34.25218134,  36.29692901,\n",
       "        97.29176387,  11.09436116,  38.82640891,  78.30658753,\n",
       "        97.28972601,  48.32096053,  33.64211054,  56.74190362,\n",
       "         4.79415097,  38.8937029 ,  90.63036451,  16.10182093,\n",
       "        74.36211347,  63.29741618,  32.41800177,  92.23765324,\n",
       "        23.72264387,  82.39455709,  50.        ,  50.        ,\n",
       "        50.        ,  50.        ,  50.        ,  50.        ,\n",
       "        50.        ,  50.        ,  50.        ,  50.        ,\n",
       "        50.        ,  50.        ,  50.        ,  50.        ,\n",
       "        50.        ,  50.        ,  50.        ,  50.        ,\n",
       "        50.        ,  50.        ,  50.        ,  50.        ,\n",
       "        50.        ,  50.        ,  50.        , 175.06071403,\n",
       "       111.37844527, 184.53612452, 192.3932129 , 122.08367918,\n",
       "       193.3053876 , 148.89987436, 147.47186402, 108.91674722,\n",
       "       122.9948178 , -71.59374101, -49.6126162 , -76.64893785,\n",
       "       -89.67973224, -77.22230183, -92.71742883, -61.46520272,\n",
       "       -60.90637692, -68.46848657, -25.10129674])"
      ]
     },
     "execution_count": 96,
     "metadata": {},
     "output_type": "execute_result"
    }
   ],
   "source": [
    "data"
   ]
  },
  {
   "cell_type": "markdown",
   "id": "932bab5b-ec21-4904-819c-ff2a5bc6ed75",
   "metadata": {},
   "source": [
    "## Basic boxplot"
   ]
  },
  {
   "cell_type": "code",
   "execution_count": 106,
   "id": "6ceb4460-9770-481c-805b-763820a4feb9",
   "metadata": {},
   "outputs": [
    {
     "data": {
      "text/plain": [
       "{'whiskers': [<matplotlib.lines.Line2D at 0x19567bfd250>,\n",
       "  <matplotlib.lines.Line2D at 0x19567bfd460>],\n",
       " 'caps': [<matplotlib.lines.Line2D at 0x19567bfd610>,\n",
       "  <matplotlib.lines.Line2D at 0x19567bfd8e0>],\n",
       " 'boxes': [<matplotlib.lines.Line2D at 0x19567beff40>],\n",
       " 'medians': [<matplotlib.lines.Line2D at 0x19567bfdbb0>],\n",
       " 'fliers': [<matplotlib.lines.Line2D at 0x19567bfde80>],\n",
       " 'means': []}"
      ]
     },
     "execution_count": 106,
     "metadata": {},
     "output_type": "execute_result"
    },
    {
     "data": {
      "image/png": "[encoded data removed]",
      "text/plain": [
       "<Figure size 432x288 with 1 Axes>"
      ]
     },
     "metadata": {
      "needs_background": "light"
     },
     "output_type": "display_data"
    }
   ],
   "source": [
    "fig1, ax1 = plt.subplots()\n",
    "ax1.set_title('Basic Plot')\n",
    "ax1.boxplot(data) #1D array는 그냥 한 x점에 일렬로 나열 \n",
    "# 2D array라면 x, y형태로 좌표 작성"
   ]
  },
  {
   "cell_type": "markdown",
   "id": "8eed7493-08c0-4d6f-81d4-f6751a8db2c9",
   "metadata": {},
   "source": [
    "## 중간값에 파인 형태(notch) 만들기"
   ]
  },
  {
   "cell_type": "code",
   "execution_count": 102,
   "id": "959f2ac8-c261-446c-86bf-1e5463d9e0a7",
   "metadata": {},
   "outputs": [
    {
     "data": {
      "text/plain": [
       "Text(1.2, 55, 'This is notch\\n(medians)')"
      ]
     },
     "execution_count": 102,
     "metadata": {},
     "output_type": "execute_result"
    },
    {
     "data": {
      "image/png": "[encoded data removed]",
      "text/plain": [
       "<Figure size 432x288 with 1 Axes>"
      ]
     },
     "metadata": {
      "needs_background": "light"
     },
     "output_type": "display_data"
    }
   ],
   "source": [
    "fig1, ax1 = plt.subplots()\n",
    "ax1.set_title('Notched Plot')\n",
    "notched_box = ax1.boxplot(data, notch=True)\n",
    "\n",
    "# Notch is certicified interval at median.\n",
    "\n",
    "arrow_notch_props = dict(headwidth=5, width=0.01)\n",
    "ax1.annotate('This is notch\\n(medians)', \n",
    "             (1.05 ,50), (1.2, 55), \n",
    "             arrowprops=arrow_notch_props)"
   ]
  },
  {
   "cell_type": "markdown",
   "id": "7c3f9f90-fb73-4c0e-acf2-ec37dfaa37c8",
   "metadata": {},
   "source": [
    "## Flier에 속성 달기"
   ]
  },
  {
   "cell_type": "code",
   "execution_count": 109,
   "id": "907e9a78-7248-4c4a-9080-e09aeff963ef",
   "metadata": {},
   "outputs": [
    {
     "data": {
      "text/plain": [
       "{'whiskers': [<matplotlib.lines.Line2D at 0x1956486a100>,\n",
       "  <matplotlib.lines.Line2D at 0x1956486a3d0>],\n",
       " 'caps': [<matplotlib.lines.Line2D at 0x1956486a6d0>,\n",
       "  <matplotlib.lines.Line2D at 0x1956486a9a0>],\n",
       " 'boxes': [<matplotlib.lines.Line2D at 0x19567b28e50>],\n",
       " 'medians': [<matplotlib.lines.Line2D at 0x1956486ac10>],\n",
       " 'fliers': [<matplotlib.lines.Line2D at 0x1956486aee0>],\n",
       " 'means': []}"
      ]
     },
     "execution_count": 109,
     "metadata": {},
     "output_type": "execute_result"
    },
    {
     "data": {
      "image/png": "[encoded data removed]",
      "text/plain": [
       "<Figure size 432x288 with 1 Axes>"
      ]
     },
     "metadata": {
      "needs_background": "light"
     },
     "output_type": "display_data"
    }
   ],
   "source": [
    "# flierprops에 들어갈 dictionary 만들기\n",
    "green_diamond = dict(markerfacecolor='g', marker='D')\n",
    "\n",
    "fig3, ax3 = plt.subplots()\n",
    "ax3.set_title('Changed Outlier Symbols')\n",
    "\n",
    "#flier prop으로 속성 작성해주기\n",
    "ax3.boxplot(data, flierprops=green_diamond)"
   ]
  },
  {
   "cell_type": "markdown",
   "id": "ad71ce11-eba4-477b-838a-eddd240d7b05",
   "metadata": {},
   "source": [
    "## Filer 안보이게 하기"
   ]
  },
  {
   "cell_type": "code",
   "execution_count": 110,
   "id": "e047d5cf-3129-4904-a4dd-cffda98f3ee9",
   "metadata": {},
   "outputs": [
    {
     "data": {
      "text/plain": [
       "{'whiskers': [<matplotlib.lines.Line2D at 0x19567cf13a0>,\n",
       "  <matplotlib.lines.Line2D at 0x19567cf1670>],\n",
       " 'caps': [<matplotlib.lines.Line2D at 0x19567cf1940>,\n",
       "  <matplotlib.lines.Line2D at 0x19567cf1c10>],\n",
       " 'boxes': [<matplotlib.lines.Line2D at 0x19567cf10d0>],\n",
       " 'medians': [<matplotlib.lines.Line2D at 0x19567cf1ee0>],\n",
       " 'fliers': [],\n",
       " 'means': []}"
      ]
     },
     "execution_count": 110,
     "metadata": {},
     "output_type": "execute_result"
    },
    {
     "data": {
      "image/png": "[encoded data removed]",
      "text/plain": [
       "<Figure size 432x288 with 1 Axes>"
      ]
     },
     "metadata": {
      "needs_background": "light"
     },
     "output_type": "display_data"
    }
   ],
   "source": [
    "fig4, ax4 = plt.subplots()\n",
    "ax4.set_title('Hide Outlier Points')\n",
    "\n",
    "# showflier argument로 보이게, 안보이게 설정하기\n",
    "ax4.boxplot(data, showfliers=False)"
   ]
  },
  {
   "cell_type": "markdown",
   "id": "bcf1a17b-4f19-4954-ab87-ebcf88c66d97",
   "metadata": {},
   "source": [
    "## boxplot 옆으로 기울이기"
   ]
  },
  {
   "cell_type": "code",
   "execution_count": 111,
   "id": "a2206ff9-296f-458f-9574-dc0fac3e1d5b",
   "metadata": {},
   "outputs": [
    {
     "data": {
      "text/plain": [
       "{'whiskers': [<matplotlib.lines.Line2D at 0x19567e16970>,\n",
       "  <matplotlib.lines.Line2D at 0x19567e16c40>],\n",
       " 'caps': [<matplotlib.lines.Line2D at 0x19567e16f10>,\n",
       "  <matplotlib.lines.Line2D at 0x19567e23220>],\n",
       " 'boxes': [<matplotlib.lines.Line2D at 0x19567e166a0>],\n",
       " 'medians': [<matplotlib.lines.Line2D at 0x19567e234f0>],\n",
       " 'fliers': [<matplotlib.lines.Line2D at 0x19567e237c0>],\n",
       " 'means': []}"
      ]
     },
     "execution_count": 111,
     "metadata": {},
     "output_type": "execute_result"
    },
    {
     "data": {
      "image/png": "[encoded data removed]",
      "text/plain": [
       "<Figure size 432x288 with 1 Axes>"
      ]
     },
     "metadata": {
      "needs_background": "light"
     },
     "output_type": "display_data"
    }
   ],
   "source": [
    "red_square = dict(markerfacecolor='r', marker='s')\n",
    "\n",
    "fig, ax5 = plt.subplots()\n",
    "ax5.set_title('Horizontal Boxes')\n",
    "ax5.boxplot(data, vert=False, flierprops=red_square)"
   ]
  },
  {
   "cell_type": "markdown",
   "id": "6d174f3d-7e28-4719-9023-28cd7f3d7f95",
   "metadata": {},
   "source": [
    "## Whisker 줄이기"
   ]
  },
  {
   "cell_type": "code",
   "execution_count": 112,
   "id": "de544729-9cd6-4aed-bc3a-5669ed67d719",
   "metadata": {},
   "outputs": [
    {
     "data": {
      "text/plain": [
       "{'whiskers': [<matplotlib.lines.Line2D at 0x19567f2ffd0>,\n",
       "  <matplotlib.lines.Line2D at 0x19567d492e0>],\n",
       " 'caps': [<matplotlib.lines.Line2D at 0x19567d495b0>,\n",
       "  <matplotlib.lines.Line2D at 0x19567d49880>],\n",
       " 'boxes': [<matplotlib.lines.Line2D at 0x19567f2fd00>],\n",
       " 'medians': [<matplotlib.lines.Line2D at 0x19567d49b50>],\n",
       " 'fliers': [<matplotlib.lines.Line2D at 0x19567d49e20>],\n",
       " 'means': []}"
      ]
     },
     "execution_count": 112,
     "metadata": {},
     "output_type": "execute_result"
    },
    {
     "data": {
      "image/png": "[encoded data removed]",
      "text/plain": [
       "<Figure size 432x288 with 1 Axes>"
      ]
     },
     "metadata": {
      "needs_background": "light"
     },
     "output_type": "display_data"
    }
   ],
   "source": [
    "fig6 ,ax6 = plt.subplots()\n",
    "ax6.set_title('Shorter Whisker length')\n",
    "\n",
    "# 양옆 Whisker? \n",
    "ax6.boxplot(data, flierprops=red_square, vert=False, whis=0.8)"
   ]
  },
  {
   "cell_type": "code",
   "execution_count": 156,
   "id": "61573cd1-e30f-4562-be41-8d5977e24508",
   "metadata": {},
   "outputs": [
    {
     "data": {
      "text/plain": [
       "\"med_line = bplot['medians'][0]\\nbox = bplot['boxes'][0] #리스트로 나오니까... \\nbox.set_facecolor('red') #patch는 'boxes에' 들어있다.\\nmed_line.remove()\""
      ]
     },
     "execution_count": 156,
     "metadata": {},
     "output_type": "execute_result"
    },
    {
     "data": {
      "image/png": "[encoded data removed]",
      "text/plain": [
       "<Figure size 432x288 with 1 Axes>"
      ]
     },
     "metadata": {
      "needs_background": "light"
     },
     "output_type": "display_data"
    }
   ],
   "source": [
    "fig_temp, ax_temp = plt.subplots()\n",
    "ax_temp.set_title('Temp Example')\n",
    "bplot = ax_temp.boxplot(data, vert=False, patch_artist=True, showfliers=False, showmeans=False, showcaps=False, whis=0, boxprops={'color':'blue'})\n",
    "\n",
    "'''med_line = bplot['medians'][0]\n",
    "box = bplot['boxes'][0] #리스트로 나오니까... \n",
    "box.set_facecolor('red') #patch는 'boxes에' 들어있다.\n",
    "med_line.remove()'''"
   ]
  },
  {
   "cell_type": "code",
   "execution_count": 157,
   "id": "88665be4-53cb-4c2c-85c4-a93d68eafc77",
   "metadata": {},
   "outputs": [],
   "source": [
    "box_temp = bplot['boxes'][0]"
   ]
  },
  {
   "cell_type": "code",
   "execution_count": 159,
   "id": "b8adb02f-55fc-42fb-97d2-b994bc222c32",
   "metadata": {},
   "outputs": [
    {
     "data": {
      "text/plain": [
       "<matplotlib.patches.PathPatch at 0x195698bea00>"
      ]
     },
     "execution_count": 159,
     "metadata": {},
     "output_type": "execute_result"
    }
   ],
   "source": [
    "box_temp"
   ]
  },
  {
   "cell_type": "code",
   "execution_count": 171,
   "id": "67a1f4ad-aed1-4851-821c-bfd65ec15b1a",
   "metadata": {},
   "outputs": [
    {
     "data": {
      "image/png": "[encoded data removed]",
      "text/plain": [
       "<Figure size 288x288 with 1 Axes>"
      ]
     },
     "metadata": {
      "needs_background": "light"
     },
     "output_type": "display_data"
    }
   ],
   "source": [
    "fig_circle, ax_circle = plt.subplots(figsize=(4,4))\n",
    "\n",
    "circle = mpl.patches.Circle((0.2,0.2), radius=0.1)\n",
    "circle2 = mpl.patches.Circle((0.4,0.4), radius=0.1)\n",
    "\n",
    "ax_circle.add_patch(circle)\n",
    "ax_circle.add_artist(circle2)\n",
    "\n",
    "\n",
    "ax_circle.cla()\n",
    "plt.show()"
   ]
  },
  {
   "cell_type": "code",
   "execution_count": null,
   "id": "b551d458-31d8-4cae-8ec0-a7807724f612",
   "metadata": {},
   "outputs": [],
   "source": []
  }
 ],
 "metadata": {
  "kernelspec": {
   "display_name": "Data Science",
   "language": "python",
   "name": "data_science"
  },
  "language_info": {
   "codemirror_mode": {
    "name": "ipython",
    "version": 3
   },
   "file_extension": ".py",
   "mimetype": "text/x-python",
   "name": "python",
   "nbconvert_exporter": "python",
   "pygments_lexer": "ipython3",
   "version": "3.8.10"
  }
 },
 "nbformat": 4,
 "nbformat_minor": 5
}
