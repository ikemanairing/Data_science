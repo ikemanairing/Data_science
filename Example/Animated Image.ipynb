{
 "cells": [
  {
   "cell_type": "markdown",
   "id": "70775ff2-9ba9-46b1-bc06-bba2f5a0c9f7",
   "metadata": {},
   "source": [
    "# Animated image"
   ]
  },
  {
   "cell_type": "code",
   "execution_count": null,
   "id": "b7f1913d-af39-4666-9a76-57c2d022454a",
   "metadata": {},
   "outputs": [],
   "source": [
    "import time"
   ]
  },
  {
   "cell_type": "code",
   "execution_count": null,
   "id": "81d46e4e-4278-4b7d-83dc-35bb1293990b",
   "metadata": {},
   "outputs": [],
   "source": [
    "import matplotlib.pyplot as plt\n",
    "import numpy as np\n",
    "import pandas as pd\n",
    "from matplotlib.animation import ArtistAnimation\n",
    "import matplotlib.animation as animation\n",
    "\n"
   ]
  },
  {
   "cell_type": "code",
   "execution_count": null,
   "id": "f8c7023c-60ba-4e42-a795-8b46b5526b4f",
   "metadata": {},
   "outputs": [],
   "source": [
    "import matplotlib.image as mpimg"
   ]
  },
  {
   "cell_type": "code",
   "execution_count": null,
   "id": "1369ec8d-b573-4d01-9ae9-2c5cce42554d",
   "metadata": {},
   "outputs": [],
   "source": [
    "%matplotlib inline"
   ]
  },
  {
   "cell_type": "code",
   "execution_count": null,
   "id": "a06ce389-7b2e-41f6-8a2f-90758c93a847",
   "metadata": {},
   "outputs": [],
   "source": [
    "img = mpimg.imread(r'C:\\Users\\ikema\\Onedrive\\Programing\\JupyterlabProjects\\Python\\Data_science/stinkbug.png')"
   ]
  },
  {
   "cell_type": "code",
   "execution_count": null,
   "id": "850687a8-47a8-454d-8f17-2ae9b46ed27e",
   "metadata": {},
   "outputs": [],
   "source": [
    "lum_img = img[:, :, 0]"
   ]
  },
  {
   "cell_type": "code",
   "execution_count": null,
   "id": "bf6fc1aa-efde-40bb-92ea-cbaca4b34b3a",
   "metadata": {},
   "outputs": [],
   "source": [
    "lum_img.shape"
   ]
  },
  {
   "cell_type": "code",
   "execution_count": null,
   "id": "657f1c8e-a6e2-45c5-a2e3-4b8c974b3fa0",
   "metadata": {
    "scrolled": true,
    "tags": []
   },
   "outputs": [],
   "source": [
    "fig, ax = plt.subplots()\n",
    "ax.set_xlim(0, 500) # img shape대로 fig 자르기\n",
    "ax.set_ylim(0, 375) # img shape대로 fig 자르기\n",
    "ax.invert_yaxis() # img는 y좌표가 역순이므로 invert\n",
    "lms = [] # img object 빈 리스트 만들기\n",
    "\n",
    "for i in range(0, 501) : \n",
    "    ani_img = ax.imshow(lum_img[:, 0:i], cmap=), animated=True)\n",
    "    # i 만큼 잘라서 이미지 만들기\n",
    "    lms.append([ani_img])\n",
    "    # animate할 list에 추가하기\n",
    "    "
   ]
  },
  {
   "cell_type": "code",
   "execution_count": null,
   "id": "767af0ac-b378-4300-8c50-f922322f6450",
   "metadata": {},
   "outputs": [],
   "source": [
    "# image animate를 위해서는 ArtistAnimation을 써야 한다. \n",
    "# ArtistAnimation은 Axes object의 리스트를 순서대로 animating 한다.\n",
    "\n",
    "ani = ArtistAnimation(fig, lms, interval=100, blit=True)\n",
    "f = r'C:\\Users\\ikema\\Desktop\\Matplotlib Animation\\test.mp4'\n",
    "writermp4 = animation.FFMpegWriter(fps=24)\n",
    "ani.save(f, writer=writermp4, dpi=200)"
   ]
  },
  {
   "cell_type": "code",
   "execution_count": null,
   "id": "bbee0e9e-fefe-43ba-a1c3-ad0dfceac881",
   "metadata": {},
   "outputs": [],
   "source": []
  }
 ],
 "metadata": {
  "kernelspec": {
   "display_name": "Data Science",
   "language": "python",
   "name": "data_science"
  },
  "language_info": {
   "codemirror_mode": {
    "name": "ipython",
    "version": 3
   },
   "file_extension": ".py",
   "mimetype": "text/x-python",
   "name": "python",
   "nbconvert_exporter": "python",
   "pygments_lexer": "ipython3",
   "version": "3.9.7"
  }
 },
 "nbformat": 4,
 "nbformat_minor": 5
}
