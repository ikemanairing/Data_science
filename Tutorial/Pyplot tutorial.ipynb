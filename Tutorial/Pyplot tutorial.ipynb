{
 "cells": [
  {
   "cell_type": "code",
   "execution_count": null,
   "id": "e6743381-be46-4fc6-ac29-eb181220c899",
   "metadata": {},
   "outputs": [],
   "source": [
    "%matplotlib inline"
   ]
  },
  {
   "cell_type": "code",
   "execution_count": null,
   "id": "90d0f2ad-193c-4cac-a967-adb762af5362",
   "metadata": {},
   "outputs": [],
   "source": [
    "import matplotlib.pyplot as plt\n",
    "import numpy as np\n",
    "import pandas \n",
    "import importlib\n",
    "import time"
   ]
  },
  {
   "cell_type": "code",
   "execution_count": null,
   "id": "3f8e80e9-70dd-4367-b197-f7cb596fd25a",
   "metadata": {},
   "outputs": [],
   "source": [
    "importlib.reload(plt)"
   ]
  },
  {
   "cell_type": "markdown",
   "id": "a0a9d0b6-f115-4813-9ea7-e797a3513046",
   "metadata": {
    "tags": []
   },
   "source": [
    "## 축의 최대 최소값 결정\n",
    "\n",
    "x_min, x_max, y_min, y_max"
   ]
  },
  {
   "cell_type": "code",
   "execution_count": null,
   "id": "80c871f2-6dce-477e-aad3-158b77c4c875",
   "metadata": {},
   "outputs": [],
   "source": [
    "plt.figure()\n",
    "plt.plot([1,3,5,9], [2,4,6,8])\n",
    "plt.axis([0,10,0,10])  #축의 x최소값, x최대값 / y최소값, y최대값 결정"
   ]
  },
  {
   "cell_type": "markdown",
   "id": "c01eaffb-ac25-45a1-94c6-ba4280567b85",
   "metadata": {},
   "source": [
    "### Style 주기\n",
    "\n",
    "세번째 parameter는 스타일이다."
   ]
  },
  {
   "cell_type": "code",
   "execution_count": null,
   "id": "e04e5c3b-63b4-4596-8480-b50b53fb595a",
   "metadata": {},
   "outputs": [],
   "source": [
    "plt.figure(figsize=(10,10), dpi=50)\n",
    "\n",
    "x = np.arange(0.0, 5.0, 0.1)\n",
    "plt.plot(x, x, 'ro', x, x ** 2, 'bs', x, x**3, 'g^')\n",
    "plt.show()"
   ]
  },
  {
   "cell_type": "markdown",
   "id": "18143d4d-e5a1-439a-ac4f-a15c7afcb4c4",
   "metadata": {},
   "source": [
    "## plot에 스타일 주기\n",
    "\n",
    "1. plot에서 parameter로 주기\n",
    "2. setter 메소드로 주기(setp)"
   ]
  },
  {
   "cell_type": "markdown",
   "id": "9d3c3ded-a825-4986-83eb-e630c383e5b6",
   "metadata": {},
   "source": [
    "### 1.plot parameter로 주기"
   ]
  },
  {
   "cell_type": "code",
   "execution_count": null,
   "id": "b5e2ff30-575d-4252-af00-586f86fc9f94",
   "metadata": {},
   "outputs": [],
   "source": [
    "plt.plot([1,2,3,4], [5,6,7,8], linewidth=4.0) #parameter로 linewidth를 준다.\n",
    "plt.axis([0,10,0,10])\n",
    "plt.show()"
   ]
  },
  {
   "cell_type": "markdown",
   "id": "923d81d3-4fe2-4049-824a-7f4da30420d9",
   "metadata": {},
   "source": [
    "## 2. setter 메소드로 주기"
   ]
  },
  {
   "cell_type": "code",
   "execution_count": null,
   "id": "ea97092c-75a7-4a13-a3d4-8e0d55531449",
   "metadata": {},
   "outputs": [],
   "source": [
    "fig, ax = plt.subplots()\n",
    "line, = ax.plot([1,2,3,4], [5,6,7,8])\n",
    "line.set_color('#FF00FF')"
   ]
  },
  {
   "cell_type": "markdown",
   "id": "0ca23b45-fe26-428f-8422-98372747fc28",
   "metadata": {},
   "source": [
    "## Mutiple figure, axes 만들기\n"
   ]
  },
  {
   "cell_type": "code",
   "execution_count": null,
   "id": "899d2302-ea55-4252-9f7a-e962ea9b5b35",
   "metadata": {},
   "outputs": [],
   "source": [
    "# data set \n",
    "\n",
    "names = ['Dune', \"Don't_look_up!\", \"Spiderman_No_way_Home\"]\n",
    "values = [100, 400, 1000]\n"
   ]
  },
  {
   "cell_type": "code",
   "execution_count": null,
   "id": "c38d76e3-16d5-4dc2-94d5-569929c7f9f4",
   "metadata": {},
   "outputs": [],
   "source": [
    "plt.figure(figsize=(20,6), dpi=200)\n",
    "\n",
    "plt.subplot(131)\n",
    "plt.bar(names, values, color=\"#FF00FF\")\n",
    "\n",
    "plt.subplot(132)\n",
    "plt.scatter(names, values, color=\"#00FFFF\")\n",
    "\n",
    "plt.subplot(133)\n",
    "plt.plot(names, values, color=\"#FFFF00\")\n",
    "\n",
    "plt.suptitle(\"Movie chart\", fontsize=40)"
   ]
  },
  {
   "cell_type": "code",
   "execution_count": null,
   "id": "633c1904-52c9-4cfc-abb0-7eb6eb28c030",
   "metadata": {},
   "outputs": [],
   "source": [
    "x1, x2, y1, y2 = np.random.randn(4,100)"
   ]
  },
  {
   "cell_type": "code",
   "execution_count": null,
   "id": "f74a91b2-063c-4662-a777-d7ec6405dd45",
   "metadata": {},
   "outputs": [],
   "source": [
    "plt.figure(figsize=(10,10), dpi=200)\n",
    "lines = plt.plot(x1, y1, x2, y2)\n",
    "plt.setp(lines, linewidth=0.5, alpha=1, color='black', marker='^', label=\"test\", markevery=0.01)\n",
    "plt.legend()"
   ]
  },
  {
   "cell_type": "code",
   "execution_count": null,
   "id": "d77f0543-89ca-4f6c-93ef-ad1cb924ebff",
   "metadata": {},
   "outputs": [],
   "source": [
    "plt.setp(lines)"
   ]
  },
  {
   "cell_type": "code",
   "execution_count": null,
   "id": "08fc1160-00de-4f55-a96e-6ff3006beb20",
   "metadata": {},
   "outputs": [],
   "source": [
    "# multiple figure and plot \n",
    "\n",
    "def f(t) :\n",
    "    return np.exp(-t) * np.cos(2*np.pi*t)"
   ]
  },
  {
   "cell_type": "code",
   "execution_count": null,
   "id": "7259d5dd-0e49-4b9d-bc54-8021f4b10d11",
   "metadata": {},
   "outputs": [],
   "source": [
    "t1 = np.arange(0.0, 5.0, 0.1)\n",
    "t2 = np.arange(0.0, 5.0, 0.02)"
   ]
  },
  {
   "cell_type": "code",
   "execution_count": null,
   "id": "7b7664b0-551d-4619-9caa-f2e2834a5d53",
   "metadata": {},
   "outputs": [],
   "source": [
    "plt.figure()\n",
    "plt.subplot(211)\n",
    "plt.plot(t1, f(t1), 'ro', t2, f(t2), 'k')\n",
    "plt.cla()\n",
    "\n",
    "plt.subplot(212)\n",
    "plt.plot(t2, np.cos(2*np.pi*t2), 'b--')\n",
    "\n",
    "plt.suptitle(\"Super title\", fontsize=20)\n",
    "plt.cla()\n",
    "\n",
    "plt.clf()\n",
    "\n",
    "plt.close()"
   ]
  },
  {
   "cell_type": "markdown",
   "id": "cd9c00f5-1388-4aaa-806d-f174fe5a42c4",
   "metadata": {},
   "source": [
    "## Histogram\n",
    "\n",
    "- Working with text"
   ]
  },
  {
   "cell_type": "code",
   "execution_count": null,
   "id": "51215001-a019-4cbe-ba94-6e5a2364fae1",
   "metadata": {},
   "outputs": [],
   "source": [
    "mu, sigma = 100, 15"
   ]
  },
  {
   "cell_type": "code",
   "execution_count": null,
   "id": "2b23e9c7-f40c-4899-815c-9785e2ed8f5f",
   "metadata": {},
   "outputs": [],
   "source": [
    "x = mu + sigma * np.random.randn(10000)\n",
    "len(x)\n",
    "# rand, randn 사이에는 정규분포냐 아니냐가 갈린다."
   ]
  },
  {
   "cell_type": "code",
   "execution_count": null,
   "id": "0caca8ff-727e-4030-94b8-d2b84f12e9c1",
   "metadata": {},
   "outputs": [],
   "source": [
    "plt.figure(figsize=(8,6))\n",
    "n, bins, patches = plt.hist(x, 100, density=0.3, facecolor='#0390fc', alpha=0.75)\n",
    "plt.text(120, 0.025, r'$\\mu=100, \\ \\sigma=15, \\ bins=100$')\n",
    "plt.grid(True)"
   ]
  },
  {
   "cell_type": "markdown",
   "id": "6f465374-4cbd-4515-8734-4dafea5432d5",
   "metadata": {
    "tags": []
   },
   "source": [
    "## Annotating text"
   ]
  },
  {
   "cell_type": "code",
   "execution_count": null,
   "id": "df517534-8c16-4a40-8dbe-38af98051865",
   "metadata": {},
   "outputs": [],
   "source": [
    "plt.figure()\n",
    "x = np.arange(-5, 5, 0.01)\n",
    "y = np.sin(2*np.pi*x)\n",
    "plt.xlim(0,2)\n",
    "plt.ylim(-2,2)\n",
    "plt.plot(x, y, 'b--', marker='^', markevery=50, markeredg)\n",
    "plt.grid(True)\n",
    "\n",
    "plt.annotate('local max', xy=(1.25, 1.0), xytext=(1.50, 1.5), arrowprops=dict(facecolor='#0390FC', shrink=0.1))\n",
    "plt.annotate('local min', xy=(0.75, -1.0), xytext=(0.1, -1.5), arrowprops=dict(facecolor='#0390FC', shrink=0.1))"
   ]
  },
  {
   "cell_type": "markdown",
   "id": "28616903-1193-482e-a8f6-649edc84e3db",
   "metadata": {
    "tags": []
   },
   "source": [
    "## Logarithmic and other nonlinear axes"
   ]
  },
  {
   "cell_type": "code",
   "execution_count": null,
   "id": "9014c71b-0746-42ea-8e23-e3f095591b6b",
   "metadata": {},
   "outputs": [],
   "source": [
    "x = np.arange(1,10,0.1)\n",
    "y = 2 ** x"
   ]
  },
  {
   "cell_type": "code",
   "execution_count": null,
   "id": "f40b56a3-554e-4ff6-85fc-826dc7356170",
   "metadata": {},
   "outputs": [],
   "source": [
    "plt.figure()\n",
    "\n",
    "plt.plot(x, y, 'r--', marker='x', markevery=10)\n",
    "plt.xlim(1,5)\n",
    "plt.ylim(1,50)\n",
    "plt.yscale('log')"
   ]
  },
  {
   "cell_type": "markdown",
   "id": "e7e05881-bba8-4382-8e8c-d16c6db01f41",
   "metadata": {},
   "source": [
    "## Logarithmic and other nonlinear axes"
   ]
  },
  {
   "cell_type": "code",
   "execution_count": null,
   "id": "0f666192-07b1-4338-8546-ea6d8043cc7d",
   "metadata": {},
   "outputs": [],
   "source": [
    "# 랜덤에 인덱스를 부여하기로 한다.\n",
    "\n",
    "np.random.seed(19680801)\n",
    "y = np.random.normal(loc=0.5, scale=0.4, size=1000)\n",
    "y = y[(y > 0) & (y < 1)] # y가 1 > y > 0인 y\n",
    "y.sort()\n",
    "x = np.arange(len(y))"
   ]
  },
  {
   "cell_type": "code",
   "execution_count": null,
   "id": "2b1d88b0-8afb-4d5b-8e03-44a048c17c63",
   "metadata": {},
   "outputs": [],
   "source": [
    "plt.figure(figsize=(6,6))\n",
    "\n",
    "#linear \n",
    "plt.subplot(221)\n",
    "plt.title('linear')\n",
    "plt.plot(x, y)\n",
    "\n",
    "#log\n",
    "plt.subplot(222)\n",
    "plt.title('log')\n",
    "plt.plot(x,y)\n",
    "plt.yscale('log')\n",
    "\n"
   ]
  },
  {
   "cell_type": "code",
   "execution_count": 7,
   "id": "7cde4516-06c4-4c2a-9396-09f13eada9b1",
   "metadata": {
    "scrolled": true,
    "tags": []
   },
   "outputs": [
    {
     "data": {
      "image/png": "[encoded data removed]",
      "text/plain": [
       "<Figure size 432x288 with 1 Axes>"
      ]
     },
     "metadata": {
      "needs_background": "light"
     },
     "output_type": "display_data"
    },
    {
     "data": {
      "image/png": "[encoded data removed]",
      "text/plain": [
       "<Figure size 432x288 with 1 Axes>"
      ]
     },
     "metadata": {
      "needs_background": "light"
     },
     "output_type": "display_data"
    },
    {
     "data": {
      "image/png": "[encoded data removed]",
      "text/plain": [
       "<Figure size 432x288 with 1 Axes>"
      ]
     },
     "metadata": {
      "needs_background": "light"
     },
     "output_type": "display_data"
    },
    {
     "data": {
      "image/png": "[encoded data removed]",
      "text/plain": [
       "<Figure size 432x288 with 1 Axes>"
      ]
     },
     "metadata": {
      "needs_background": "light"
     },
     "output_type": "display_data"
    }
   ],
   "source": [
    "#symmetric log\n",
    "\n",
    "for i in range (1,50) :\n",
    "    plt.figure()\n",
    "    plt.title('symmetric log')\n",
    "    plt.plot(x, y - y.mean())\n",
    "    plt.yscale('symlog', linthresh=(i*0.01))\n",
    "    plt.show()\n",
    "    time.sleep(0.5)"
   ]
  },
  {
   "cell_type": "code",
   "execution_count": null,
   "id": "2703e56c-8a24-413b-8349-0b3c990ef945",
   "metadata": {},
   "outputs": [],
   "source": []
  }
 ],
 "metadata": {
  "kernelspec": {
   "display_name": "Data_science",
   "language": "python",
   "name": "data_science"
  },
  "language_info": {
   "codemirror_mode": {
    "name": "ipython",
    "version": 3
   },
   "file_extension": ".py",
   "mimetype": "text/x-python",
   "name": "python",
   "nbconvert_exporter": "python",
   "pygments_lexer": "ipython3",
   "version": "3.7.7"
  }
 },
 "nbformat": 4,
 "nbformat_minor": 5
}
