{
 "cells": [
  {
   "cell_type": "code",
   "execution_count": 156,
   "id": "b903c1c3-bd17-40c6-85bb-81bc60744f91",
   "metadata": {},
   "outputs": [],
   "source": [
    "import pandas as pd\n",
    "import numpy as np\n",
    "import matplotlib.pyplot as plt\n",
    "from matplotlib import font_manager as font_m\n",
    "from matplotlib import rc"
   ]
  },
  {
   "cell_type": "code",
   "execution_count": 177,
   "id": "7c205d94-9802-4b1a-aca3-47781c61add8",
   "metadata": {},
   "outputs": [],
   "source": [
    "# 기본 폰트 설정\n",
    "\n",
    "plt.rcParams['font.family'] = \"AppleSDGothicNeoUL00\""
   ]
  },
  {
   "cell_type": "code",
   "execution_count": 172,
   "id": "9e855385-9f78-48bc-9f2c-0a6402c3fdb5",
   "metadata": {},
   "outputs": [
    {
     "data": {
      "text/html": [
       "<div>\n",
       "<style scoped>\n",
       "    .dataframe tbody tr th:only-of-type {\n",
       "        vertical-align: middle;\n",
       "    }\n",
       "\n",
       "    .dataframe tbody tr th {\n",
       "        vertical-align: top;\n",
       "    }\n",
       "\n",
       "    .dataframe thead th {\n",
       "        text-align: right;\n",
       "    }\n",
       "</style>\n",
       "<table border=\"1\" class=\"dataframe\">\n",
       "  <thead>\n",
       "    <tr style=\"text-align: right;\">\n",
       "      <th>영화명</th>\n",
       "      <th>#아이엠히어</th>\n",
       "      <th>극장판 귀멸의 칼날: 무한열차편</th>\n",
       "      <th>나는 나를 해고하지 않는다</th>\n",
       "      <th>명탐정 코난: 진홍의 수학여행</th>\n",
       "      <th>미스터 존스</th>\n",
       "      <th>블라인드</th>\n",
       "      <th>빅풋 주니어2: 패밀리가 떴다</th>\n",
       "      <th>세자매</th>\n",
       "      <th>소울</th>\n",
       "      <th>아이 엠 우먼</th>\n",
       "      <th>커넥트</th>\n",
       "    </tr>\n",
       "  </thead>\n",
       "  <tbody>\n",
       "    <tr>\n",
       "      <th>0</th>\n",
       "      <td>NaN</td>\n",
       "      <td>NaN</td>\n",
       "      <td>NaN</td>\n",
       "      <td>NaN</td>\n",
       "      <td>NaN</td>\n",
       "      <td>NaN</td>\n",
       "      <td>NaN</td>\n",
       "      <td>NaN</td>\n",
       "      <td>874999.0</td>\n",
       "      <td>NaN</td>\n",
       "      <td>NaN</td>\n",
       "    </tr>\n",
       "    <tr>\n",
       "      <th>1</th>\n",
       "      <td>NaN</td>\n",
       "      <td>206309.0</td>\n",
       "      <td>NaN</td>\n",
       "      <td>NaN</td>\n",
       "      <td>NaN</td>\n",
       "      <td>NaN</td>\n",
       "      <td>NaN</td>\n",
       "      <td>NaN</td>\n",
       "      <td>NaN</td>\n",
       "      <td>NaN</td>\n",
       "      <td>NaN</td>\n",
       "    </tr>\n",
       "    <tr>\n",
       "      <th>2</th>\n",
       "      <td>NaN</td>\n",
       "      <td>NaN</td>\n",
       "      <td>NaN</td>\n",
       "      <td>NaN</td>\n",
       "      <td>NaN</td>\n",
       "      <td>NaN</td>\n",
       "      <td>NaN</td>\n",
       "      <td>42301.0</td>\n",
       "      <td>NaN</td>\n",
       "      <td>NaN</td>\n",
       "      <td>NaN</td>\n",
       "    </tr>\n",
       "    <tr>\n",
       "      <th>3</th>\n",
       "      <td>NaN</td>\n",
       "      <td>NaN</td>\n",
       "      <td>NaN</td>\n",
       "      <td>38131.0</td>\n",
       "      <td>NaN</td>\n",
       "      <td>NaN</td>\n",
       "      <td>NaN</td>\n",
       "      <td>NaN</td>\n",
       "      <td>NaN</td>\n",
       "      <td>NaN</td>\n",
       "      <td>NaN</td>\n",
       "    </tr>\n",
       "    <tr>\n",
       "      <th>4</th>\n",
       "      <td>NaN</td>\n",
       "      <td>NaN</td>\n",
       "      <td>NaN</td>\n",
       "      <td>NaN</td>\n",
       "      <td>NaN</td>\n",
       "      <td>NaN</td>\n",
       "      <td>NaN</td>\n",
       "      <td>NaN</td>\n",
       "      <td>NaN</td>\n",
       "      <td>22918.0</td>\n",
       "      <td>NaN</td>\n",
       "    </tr>\n",
       "    <tr>\n",
       "      <th>5</th>\n",
       "      <td>NaN</td>\n",
       "      <td>NaN</td>\n",
       "      <td>NaN</td>\n",
       "      <td>NaN</td>\n",
       "      <td>NaN</td>\n",
       "      <td>18297.0</td>\n",
       "      <td>NaN</td>\n",
       "      <td>NaN</td>\n",
       "      <td>NaN</td>\n",
       "      <td>NaN</td>\n",
       "      <td>NaN</td>\n",
       "    </tr>\n",
       "    <tr>\n",
       "      <th>6</th>\n",
       "      <td>16290.0</td>\n",
       "      <td>NaN</td>\n",
       "      <td>NaN</td>\n",
       "      <td>NaN</td>\n",
       "      <td>NaN</td>\n",
       "      <td>NaN</td>\n",
       "      <td>NaN</td>\n",
       "      <td>NaN</td>\n",
       "      <td>NaN</td>\n",
       "      <td>NaN</td>\n",
       "      <td>NaN</td>\n",
       "    </tr>\n",
       "    <tr>\n",
       "      <th>7</th>\n",
       "      <td>NaN</td>\n",
       "      <td>NaN</td>\n",
       "      <td>NaN</td>\n",
       "      <td>NaN</td>\n",
       "      <td>NaN</td>\n",
       "      <td>NaN</td>\n",
       "      <td>14682.0</td>\n",
       "      <td>NaN</td>\n",
       "      <td>NaN</td>\n",
       "      <td>NaN</td>\n",
       "      <td>NaN</td>\n",
       "    </tr>\n",
       "    <tr>\n",
       "      <th>8</th>\n",
       "      <td>NaN</td>\n",
       "      <td>NaN</td>\n",
       "      <td>NaN</td>\n",
       "      <td>NaN</td>\n",
       "      <td>NaN</td>\n",
       "      <td>NaN</td>\n",
       "      <td>NaN</td>\n",
       "      <td>NaN</td>\n",
       "      <td>NaN</td>\n",
       "      <td>NaN</td>\n",
       "      <td>14140.0</td>\n",
       "    </tr>\n",
       "    <tr>\n",
       "      <th>9</th>\n",
       "      <td>NaN</td>\n",
       "      <td>NaN</td>\n",
       "      <td>NaN</td>\n",
       "      <td>NaN</td>\n",
       "      <td>10743.0</td>\n",
       "      <td>NaN</td>\n",
       "      <td>NaN</td>\n",
       "      <td>NaN</td>\n",
       "      <td>NaN</td>\n",
       "      <td>NaN</td>\n",
       "      <td>NaN</td>\n",
       "    </tr>\n",
       "    <tr>\n",
       "      <th>10</th>\n",
       "      <td>NaN</td>\n",
       "      <td>NaN</td>\n",
       "      <td>10318.0</td>\n",
       "      <td>NaN</td>\n",
       "      <td>NaN</td>\n",
       "      <td>NaN</td>\n",
       "      <td>NaN</td>\n",
       "      <td>NaN</td>\n",
       "      <td>NaN</td>\n",
       "      <td>NaN</td>\n",
       "      <td>NaN</td>\n",
       "    </tr>\n",
       "  </tbody>\n",
       "</table>\n",
       "</div>"
      ],
      "text/plain": [
       "영화명   #아이엠히어  극장판 귀멸의 칼날: 무한열차편  나는 나를 해고하지 않는다  명탐정 코난: 진홍의 수학여행   미스터 존스  \\\n",
       "0        NaN                NaN             NaN               NaN      NaN   \n",
       "1        NaN           206309.0             NaN               NaN      NaN   \n",
       "2        NaN                NaN             NaN               NaN      NaN   \n",
       "3        NaN                NaN             NaN           38131.0      NaN   \n",
       "4        NaN                NaN             NaN               NaN      NaN   \n",
       "5        NaN                NaN             NaN               NaN      NaN   \n",
       "6    16290.0                NaN             NaN               NaN      NaN   \n",
       "7        NaN                NaN             NaN               NaN      NaN   \n",
       "8        NaN                NaN             NaN               NaN      NaN   \n",
       "9        NaN                NaN             NaN               NaN  10743.0   \n",
       "10       NaN                NaN         10318.0               NaN      NaN   \n",
       "\n",
       "영화명     블라인드  빅풋 주니어2: 패밀리가 떴다      세자매        소울  아이 엠 우먼      커넥트  \n",
       "0        NaN               NaN      NaN  874999.0      NaN      NaN  \n",
       "1        NaN               NaN      NaN       NaN      NaN      NaN  \n",
       "2        NaN               NaN  42301.0       NaN      NaN      NaN  \n",
       "3        NaN               NaN      NaN       NaN      NaN      NaN  \n",
       "4        NaN               NaN      NaN       NaN  22918.0      NaN  \n",
       "5    18297.0               NaN      NaN       NaN      NaN      NaN  \n",
       "6        NaN               NaN      NaN       NaN      NaN      NaN  \n",
       "7        NaN           14682.0      NaN       NaN      NaN      NaN  \n",
       "8        NaN               NaN      NaN       NaN      NaN  14140.0  \n",
       "9        NaN               NaN      NaN       NaN      NaN      NaN  \n",
       "10       NaN               NaN      NaN       NaN      NaN      NaN  "
      ]
     },
     "execution_count": 172,
     "metadata": {},
     "output_type": "execute_result"
    }
   ],
   "source": [
    "# csv 읽기\n",
    "df = pd.read_csv(r'data\\1.csv', header=6, thousands=',', encoding='utf-8')\n",
    "df = df.drop([0]) # 필요 없는 row 제거\n",
    "\n",
    "needed_columns = df.columns.values[[1,2,7]]  # 필요한 column 값 찾아놓기\n",
    "\n",
    "# 특정한 column값만 놔두고 데이터프레임 새로 만들기\n",
    "new_df = df[needed_columns]\n",
    "\n",
    "# 날짜를 object에서 datetime 타입으로 바꾸기\n",
    "date_column = pd.to_datetime(new_df['개봉일'], format='%Y-%m-%d', errors='raise')\n",
    "df.loc['개봉일'] = date_column\n",
    "\n",
    "# 조건에 맞는 값만 남기기\n",
    "mask = (df['개봉일'] > '2021-01-01') & (df['누적관객수 '] > 10000)\n",
    "filtered_df = new_df.loc[mask]\n",
    "\n",
    "# 필요한 값으로 열과 행이 뒤바뀐 데이터 프레임만들기\n",
    "new_df = filtered_df.pivot(columns='영화명', values='누적관객수 ')\n",
    "new_df = new_df.reset_index(drop=True)\n",
    "\n",
    "# 확인\n",
    "new_df"
   ]
  },
  {
   "cell_type": "code",
   "execution_count": 173,
   "id": "64be01ab-81d0-475c-8d4c-76c4784a1c1d",
   "metadata": {},
   "outputs": [],
   "source": [
    "def ReplaceValue(data, time) :\n",
    "    \"\"\" 값을 모두 맨 아래로 보낸 뒤에 NaN을 보간하는 함수이다. \n",
    "    data에는 위에서 정제된 DataFrame이 들어가고, time에는 이 값으로 만들\n",
    "    동영상의 시간이 들어간다. \"\"\"\n",
    "    \n",
    "    data_copy = data.copy() # copy를 안하면 원본 데이터가 손상된다.\n",
    "    column_value_list = list(data_copy.columns.values)\n",
    "    frames = 30\n",
    "    \n",
    "    # 마지막줄 Replace\n",
    "    for c_value in column_value_list :\n",
    "        last_valid_index = data_copy[c_value].last_valid_index() \n",
    "        last_valid_value = data_copy[c_value][last_valid_index]\n",
    "        last_index = time * frames - 1\n",
    "        \n",
    "        #replace \n",
    "        data_copy.loc[last_index, c_value] = data_copy.loc[last_valid_index, c_value]\n",
    "    \n",
    "    # np.nan 모두 제거\n",
    "    data_copy = data_copy.dropna()\n",
    "    \n",
    "    # 데이터프레임을 내가 원하는 만큼 늘리기\n",
    "    data_copy = data_copy.reindex(range(time * frames))\n",
    "    \n",
    "    # 첫번째 줄 모두 0 으로 만들기\n",
    "    data_copy.loc[0] = 0\n",
    "    \n",
    "    # 보간\n",
    "    data_copy = data_copy.interpolate()\n",
    "    \n",
    "    return data_copy\n",
    "    "
   ]
  },
  {
   "cell_type": "code",
   "execution_count": 174,
   "id": "40335010-27fe-46a0-aa89-9ef1f427acf0",
   "metadata": {},
   "outputs": [],
   "source": [
    "filtered_df = ReplaceValue(new_df, 10)"
   ]
  },
  {
   "cell_type": "markdown",
   "id": "81066bfb-9f46-4e7b-8db3-9ea754287cc2",
   "metadata": {},
   "source": [
    "# 랭킹 설정"
   ]
  },
  {
   "cell_type": "code",
   "execution_count": 243,
   "id": "d4c80ef6-f2c3-4b9c-8c83-f80a1980d950",
   "metadata": {},
   "outputs": [
    {
     "data": {
      "text/plain": [
       "영화명\n",
       "#아이엠히어                7.0\n",
       "극장판 귀멸의 칼날: 무한열차편     2.0\n",
       "나는 나를 해고하지 않는다       11.0\n",
       "명탐정 코난: 진홍의 수학여행      4.0\n",
       "미스터 존스               10.0\n",
       "블라인드                  6.0\n",
       "빅풋 주니어2: 패밀리가 떴다      8.0\n",
       "세자매                   3.0\n",
       "소울                    1.0\n",
       "아이 엠 우먼               5.0\n",
       "커넥트                   9.0\n",
       "Name: 2999, dtype: float64"
      ]
     },
     "execution_count": 243,
     "metadata": {},
     "output_type": "execute_result"
    }
   ],
   "source": [
    "Rank_Series"
   ]
  },
  {
   "cell_type": "code",
   "execution_count": 246,
   "id": "4ed83666-17ce-4359-908e-1179fb3f804c",
   "metadata": {},
   "outputs": [
    {
     "data": {
      "text/html": [
       "<div>\n",
       "<style scoped>\n",
       "    .dataframe tbody tr th:only-of-type {\n",
       "        vertical-align: middle;\n",
       "    }\n",
       "\n",
       "    .dataframe tbody tr th {\n",
       "        vertical-align: top;\n",
       "    }\n",
       "\n",
       "    .dataframe thead th {\n",
       "        text-align: right;\n",
       "    }\n",
       "</style>\n",
       "<table border=\"1\" class=\"dataframe\">\n",
       "  <thead>\n",
       "    <tr style=\"text-align: right;\">\n",
       "      <th></th>\n",
       "      <th>foo</th>\n",
       "      <th>bar</th>\n",
       "      <th>tar</th>\n",
       "    </tr>\n",
       "  </thead>\n",
       "  <tbody>\n",
       "    <tr>\n",
       "      <th>0</th>\n",
       "      <td>1</td>\n",
       "      <td>4</td>\n",
       "      <td>7</td>\n",
       "    </tr>\n",
       "    <tr>\n",
       "      <th>1</th>\n",
       "      <td>2</td>\n",
       "      <td>5</td>\n",
       "      <td>8</td>\n",
       "    </tr>\n",
       "    <tr>\n",
       "      <th>2</th>\n",
       "      <td>3</td>\n",
       "      <td>6</td>\n",
       "      <td>9</td>\n",
       "    </tr>\n",
       "  </tbody>\n",
       "</table>\n",
       "</div>"
      ],
      "text/plain": [
       "   foo  bar  tar\n",
       "0    1    4    7\n",
       "1    2    5    8\n",
       "2    3    6    9"
      ]
     },
     "execution_count": 246,
     "metadata": {},
     "output_type": "execute_result"
    }
   ],
   "source": [
    "# 랭킹 데이터프레임 만들기\n",
    "\n",
    "test = pd.DataFrame({'foo' : [1,2,3], 'bar': [4,5,6], 'tar' : [7,8,9]})\n",
    "test"
   ]
  },
  {
   "cell_type": "code",
   "execution_count": 264,
   "id": "48fd6cd7-0865-4930-bdc7-8665b1cb04e5",
   "metadata": {},
   "outputs": [],
   "source": [
    "rank_df = pd.DataFrame(Rank_Series)\n",
    "\n",
    "index_array = rank_df.index.values\n",
    "value_array = rank_df[2999]"
   ]
  },
  {
   "cell_type": "code",
   "execution_count": 294,
   "id": "9ba1d7c0-19e1-42e2-b05f-ede9577739bf",
   "metadata": {},
   "outputs": [
    {
     "data": {
      "text/plain": [
       "array([[0.6473742 , 0.81433276, 0.7008453 , 0.79679282, 0.31103923,\n",
       "        0.39313899, 0.70185902, 0.58111269, 0.96750907, 0.16756171,\n",
       "        0.3628766 ]])"
      ]
     },
     "execution_count": 294,
     "metadata": {},
     "output_type": "execute_result"
    }
   ],
   "source": [
    "# 모양 맞추기 어렵네...\n",
    "np.random.rand(1,11)"
   ]
  },
  {
   "cell_type": "code",
   "execution_count": 359,
   "id": "16a21d9e-c894-45ce-9907-15f94ccfd9e7",
   "metadata": {},
   "outputs": [
    {
     "data": {
      "text/plain": [
       "array([[1, 2],\n",
       "       [3, 4]])"
      ]
     },
     "execution_count": 359,
     "metadata": {},
     "output_type": "execute_result"
    }
   ],
   "source": [
    "np.array([[1,2],[3,4]])"
   ]
  },
  {
   "cell_type": "code",
   "execution_count": 360,
   "id": "b390d24a-1ec9-43e1-88aa-43b831d57e64",
   "metadata": {},
   "outputs": [
    {
     "data": {
      "text/plain": [
       "(2,)"
      ]
     },
     "execution_count": 360,
     "metadata": {},
     "output_type": "execute_result"
    }
   ],
   "source": [
    "testo = np.array([1,2])  \n",
    "testo.shape # 단일 행렬 1,2"
   ]
  },
  {
   "cell_type": "code",
   "execution_count": 361,
   "id": "90f0419e-1056-4863-8d63-4f072c684b7a",
   "metadata": {},
   "outputs": [],
   "source": [
    "test1 = np.array([[1,2]])"
   ]
  },
  {
   "cell_type": "code",
   "execution_count": 385,
   "id": "0813d5ac-dd42-457a-a56d-6ba778011a63",
   "metadata": {},
   "outputs": [
    {
     "data": {
      "text/plain": [
       "2"
      ]
     },
     "execution_count": 385,
     "metadata": {},
     "output_type": "execute_result"
    }
   ],
   "source": [
    "test1[0][1] #1행 2열 "
   ]
  },
  {
   "cell_type": "code",
   "execution_count": 342,
   "id": "a231c06d-fc47-4735-8a79-cee0992d6ad7",
   "metadata": {},
   "outputs": [],
   "source": [
    "test2 = np.array([[1,], [2,]])"
   ]
  },
  {
   "cell_type": "code",
   "execution_count": 383,
   "id": "0b84ec79-367d-4c39-a08c-86bd5974bc71",
   "metadata": {},
   "outputs": [
    {
     "data": {
      "text/plain": [
       "1"
      ]
     },
     "execution_count": 383,
     "metadata": {},
     "output_type": "execute_result"
    }
   ],
   "source": [
    "test2[0][0]"
   ]
  },
  {
   "cell_type": "code",
   "execution_count": 329,
   "id": "c1298a8e-7951-4e17-9b88-24a5d6e52fb6",
   "metadata": {},
   "outputs": [
    {
     "data": {
      "text/plain": [
       "(11,)"
      ]
     },
     "execution_count": 329,
     "metadata": {},
     "output_type": "execute_result"
    }
   ],
   "source": [
    "index_array.shape"
   ]
  },
  {
   "cell_type": "code",
   "execution_count": 319,
   "id": "b4575ca6-280a-4ce8-a8b8-3d7f3de5f001",
   "metadata": {},
   "outputs": [
    {
     "data": {
      "text/plain": [
       "[[7.0, 2.0, 11.0, 4.0, 10.0, 6.0, 8.0, 3.0, 1.0, 5.0, 9.0]]"
      ]
     },
     "execution_count": 319,
     "metadata": {},
     "output_type": "execute_result"
    }
   ],
   "source": [
    "[list(value_array)]"
   ]
  },
  {
   "cell_type": "code",
   "execution_count": 326,
   "id": "adfbb85b-5d6e-4117-b8df-b968c475c304",
   "metadata": {},
   "outputs": [
    {
     "data": {
      "text/html": [
       "<div>\n",
       "<style scoped>\n",
       "    .dataframe tbody tr th:only-of-type {\n",
       "        vertical-align: middle;\n",
       "    }\n",
       "\n",
       "    .dataframe tbody tr th {\n",
       "        vertical-align: top;\n",
       "    }\n",
       "\n",
       "    .dataframe thead th {\n",
       "        text-align: right;\n",
       "    }\n",
       "</style>\n",
       "<table border=\"1\" class=\"dataframe\">\n",
       "  <thead>\n",
       "    <tr style=\"text-align: right;\">\n",
       "      <th></th>\n",
       "      <th>#아이엠히어</th>\n",
       "      <th>극장판 귀멸의 칼날: 무한열차편</th>\n",
       "      <th>나는 나를 해고하지 않는다</th>\n",
       "      <th>명탐정 코난: 진홍의 수학여행</th>\n",
       "      <th>미스터 존스</th>\n",
       "      <th>블라인드</th>\n",
       "      <th>빅풋 주니어2: 패밀리가 떴다</th>\n",
       "      <th>세자매</th>\n",
       "      <th>소울</th>\n",
       "      <th>아이 엠 우먼</th>\n",
       "      <th>커넥트</th>\n",
       "    </tr>\n",
       "  </thead>\n",
       "  <tbody>\n",
       "    <tr>\n",
       "      <th>0</th>\n",
       "      <td>7.0</td>\n",
       "      <td>2.0</td>\n",
       "      <td>11.0</td>\n",
       "      <td>4.0</td>\n",
       "      <td>10.0</td>\n",
       "      <td>6.0</td>\n",
       "      <td>8.0</td>\n",
       "      <td>3.0</td>\n",
       "      <td>1.0</td>\n",
       "      <td>5.0</td>\n",
       "      <td>9.0</td>\n",
       "    </tr>\n",
       "  </tbody>\n",
       "</table>\n",
       "</div>"
      ],
      "text/plain": [
       "   #아이엠히어  극장판 귀멸의 칼날: 무한열차편  나는 나를 해고하지 않는다  명탐정 코난: 진홍의 수학여행  미스터 존스  블라인드  \\\n",
       "0     7.0                2.0            11.0               4.0    10.0   6.0   \n",
       "\n",
       "   빅풋 주니어2: 패밀리가 떴다  세자매   소울  아이 엠 우먼  커넥트  \n",
       "0               8.0  3.0  1.0      5.0  9.0  "
      ]
     },
     "execution_count": 326,
     "metadata": {},
     "output_type": "execute_result"
    }
   ],
   "source": [
    "rank_df = pd.DataFrame(np.array(this), columns=index_array)\n",
    "rank_df"
   ]
  },
  {
   "cell_type": "code",
   "execution_count": 272,
   "id": "ff996ed7-8936-41ca-98a8-a5d261670048",
   "metadata": {},
   "outputs": [
    {
     "data": {
      "text/plain": [
       "<bound method NDFrame.last_valid_index of Empty DataFrame\n",
       "Columns: [#아이엠히어, 극장판 귀멸의 칼날: 무한열차편, 나는 나를 해고하지 않는다, 명탐정 코난: 진홍의 수학여행, 미스터 존스, 블라인드, 빅풋 주니어2: 패밀리가 떴다, 세자매, 소울, 아이 엠 우먼, 커넥트]\n",
       "Index: []>"
      ]
     },
     "execution_count": 272,
     "metadata": {},
     "output_type": "execute_result"
    }
   ],
   "source": [
    "rank_df.last_valid_index"
   ]
  },
  {
   "cell_type": "code",
   "execution_count": 183,
   "id": "56c14079-d276-4f89-8fd6-60b8f7a542b1",
   "metadata": {},
   "outputs": [
    {
     "data": {
      "text/plain": [
       "영화명\n",
       "#아이엠히어                16290.0\n",
       "극장판 귀멸의 칼날: 무한열차편    206309.0\n",
       "나는 나를 해고하지 않는다        10318.0\n",
       "명탐정 코난: 진홍의 수학여행      38131.0\n",
       "미스터 존스                10743.0\n",
       "블라인드                  18297.0\n",
       "빅풋 주니어2: 패밀리가 떴다      14682.0\n",
       "세자매                   42301.0\n",
       "소울                   874999.0\n",
       "아이 엠 우먼               22918.0\n",
       "커넥트                   14140.0\n",
       "Name: 299, dtype: float64"
      ]
     },
     "execution_count": 183,
     "metadata": {},
     "output_type": "execute_result"
    }
   ],
   "source": [
    "endpoint = filtered_df.iloc[filtered_df.last_valid_index()]\n",
    "endpoint"
   ]
  },
  {
   "cell_type": "code",
   "execution_count": 126,
   "id": "2d544e55-718c-4f60-af3d-30347ff89b79",
   "metadata": {},
   "outputs": [],
   "source": [
    "Rank_Series = endpoint.rank(ascending=False)"
   ]
  },
  {
   "cell_type": "code",
   "execution_count": 127,
   "id": "72207eb7-d116-412c-8590-339217750df7",
   "metadata": {},
   "outputs": [
    {
     "data": {
      "text/plain": [
       "영화명\n",
       "#아이엠히어                7.0\n",
       "극장판 귀멸의 칼날: 무한열차편     2.0\n",
       "나는 나를 해고하지 않는다       11.0\n",
       "명탐정 코난: 진홍의 수학여행      4.0\n",
       "미스터 존스               10.0\n",
       "블라인드                  6.0\n",
       "빅풋 주니어2: 패밀리가 떴다      8.0\n",
       "세자매                   3.0\n",
       "소울                    1.0\n",
       "아이 엠 우먼               5.0\n",
       "커넥트                   9.0\n",
       "Name: 2999, dtype: float64"
      ]
     },
     "execution_count": 127,
     "metadata": {},
     "output_type": "execute_result"
    }
   ],
   "source": [
    "filtered_df.iloc[filtered_df.last_valid_index()].rank()"
   ]
  },
  {
   "cell_type": "markdown",
   "id": "f463ce72-5239-4519-8a16-c2c3691d5097",
   "metadata": {},
   "source": [
    "# teste\n"
   ]
  },
  {
   "cell_type": "code",
   "execution_count": 148,
   "id": "a36c3953-128a-43c8-b263-0f8653ee481a",
   "metadata": {},
   "outputs": [],
   "source": [
    "fontlist = font_m.findSystemFonts()\n",
    "\n",
    "for font in fontlist :\n",
    "    font_m.get_font(font)"
   ]
  },
  {
   "cell_type": "code",
   "execution_count": 175,
   "id": "d45dc944-eee5-49fc-aa0a-01401b7e9c3b",
   "metadata": {},
   "outputs": [],
   "source": [
    "colors =  plt.cm.Paired(range(10), alpha=0.8)"
   ]
  },
  {
   "cell_type": "code",
   "execution_count": 178,
   "id": "4eecc31d-62c7-48bc-9ac4-c7d24f00e1c0",
   "metadata": {},
   "outputs": [
    {
     "data": {
      "image/png": "[encoded data removed]",
      "text/plain": [
       "<Figure size 2304x1296 with 1 Axes>"
      ]
     },
     "metadata": {
      "needs_background": "light"
     },
     "output_type": "display_data"
    }
   ],
   "source": [
    "fig, ax = plt.subplots(figsize=(16,9), dpi=144, constrained_layout=True)\n",
    "\n",
    "barh = ax.barh(Rank_Series, endpoint, tick_label=Rank_Series.index.values, color=colors)\n",
    "ax.bar_label(barh)\n",
    "ax.invert_yaxis()\n",
    "ax.grid(visible=True, which='major', axis='x')\n",
    "\n"
   ]
  },
  {
   "cell_type": "code",
   "execution_count": null,
   "id": "b9375531-ec24-4a09-afc2-2d0fbada58b1",
   "metadata": {},
   "outputs": [],
   "source": []
  }
 ],
 "metadata": {
  "kernelspec": {
   "display_name": "Data Science",
   "language": "python",
   "name": "data_science"
  },
  "language_info": {
   "codemirror_mode": {
    "name": "ipython",
    "version": 3
   },
   "file_extension": ".py",
   "mimetype": "text/x-python",
   "name": "python",
   "nbconvert_exporter": "python",
   "pygments_lexer": "ipython3",
   "version": "3.9.7"
  }
 },
 "nbformat": 4,
 "nbformat_minor": 5
}
